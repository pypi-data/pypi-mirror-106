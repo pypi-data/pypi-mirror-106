{
 "cells": [
  {
   "cell_type": "code",
   "execution_count": 1,
   "id": "unnecessary-lewis",
   "metadata": {},
   "outputs": [
    {
     "name": "stdout",
     "output_type": "stream",
     "text": [
      "Populating the interactive namespace from numpy and matplotlib\n"
     ]
    }
   ],
   "source": [
    "%pylab widget"
   ]
  },
  {
   "cell_type": "code",
   "execution_count": 3,
   "id": "light-eleven",
   "metadata": {},
   "outputs": [],
   "source": [
    "import fastcat.fastcat as fc"
   ]
  },
  {
   "cell_type": "code",
   "execution_count": 5,
   "id": "french-greensboro",
   "metadata": {},
   "outputs": [],
   "source": [
    "s = fc.calculate_spectrum(120, 14, 3, 150,monitor=None)\n",
    "s.attenuate(0.1,fc.get_mu(z=13)) #0.4\n",
    "s.attenuate(0.04,fc.get_mu(z=4))"
   ]
  },
  {
   "cell_type": "code",
   "execution_count": 15,
   "id": "superb-mounting",
   "metadata": {},
   "outputs": [
    {
     "data": {
      "application/vnd.jupyter.widget-view+json": {
       "model_id": "392f52ba10734ce3abfba5e2e8d91679",
       "version_major": 2,
       "version_minor": 0
      },
      "text/plain": [
       "Canvas(toolbar=Toolbar(toolitems=[('Home', 'Reset original view', 'home', 'home'), ('Back', 'Back to previous …"
      ]
     },
     "metadata": {},
     "output_type": "display_data"
    }
   ],
   "source": [
    "plt.figure(figsize=[4,3],dpi=200)\n",
    "xx, yy = s.get_points()\n",
    "plt.plot(xx,yy/np.sum(yy),c='cornflowerblue')\n",
    "plt.ylabel('Normalized fluence [a.u.]')\n",
    "plt.xlabel('Energy [keV]')\n",
    "# plt.title('kV Spectrum')\n",
    "plt.tight_layout()"
   ]
  },
  {
   "cell_type": "code",
   "execution_count": null,
   "id": "liquid-blocking",
   "metadata": {},
   "outputs": [],
   "source": []
  }
 ],
 "metadata": {
  "kernelspec": {
   "display_name": "Python 3",
   "language": "python",
   "name": "python3"
  },
  "language_info": {
   "codemirror_mode": {
    "name": "ipython",
    "version": 3
   },
   "file_extension": ".py",
   "mimetype": "text/x-python",
   "name": "python",
   "nbconvert_exporter": "python",
   "pygments_lexer": "ipython3",
   "version": "3.7.6"
  }
 },
 "nbformat": 4,
 "nbformat_minor": 5
}
