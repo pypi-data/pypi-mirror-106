{
 "cells": [
  {
   "cell_type": "markdown",
   "id": "broadband-roots",
   "metadata": {},
   "source": [
    "# Fastcat Demo: Varian kV OBI"
   ]
  },
  {
   "cell_type": "code",
   "execution_count": 8,
   "id": "prompt-sally",
   "metadata": {},
   "outputs": [
    {
     "name": "stdout",
     "output_type": "stream",
     "text": [
      "Populating the interactive namespace from numpy and matplotlib\n",
      "The autoreload extension is already loaded. To reload it, use:\n",
      "  %reload_ext autoreload\n"
     ]
    }
   ],
   "source": [
    "%pylab widget"
   ]
  },
  {
   "cell_type": "code",
   "execution_count": 2,
   "id": "detected-despite",
   "metadata": {},
   "outputs": [],
   "source": [
    "import fastcat.fastcat as fc"
   ]
  },
  {
   "cell_type": "markdown",
   "id": "middle-oregon",
   "metadata": {},
   "source": [
    "# Initialize the spectrum"
   ]
  },
  {
   "cell_type": "code",
   "execution_count": 3,
   "id": "iraqi-junior",
   "metadata": {},
   "outputs": [],
   "source": [
    "s = fc.calculate_spectrum(100,14,3,50,monitor=None)"
   ]
  },
  {
   "cell_type": "code",
   "execution_count": 4,
   "id": "assisted-harvard",
   "metadata": {},
   "outputs": [],
   "source": [
    "s.attenuate(0.4,fc.get_mu(z=13)) # Aluminum inherent filtration\n",
    "s.attenuate(0.089,fc.get_mu(z=22)) # Titanium beam hardening filter"
   ]
  },
  {
   "cell_type": "code",
   "execution_count": 5,
   "id": "amazing-benefit",
   "metadata": {},
   "outputs": [
    {
     "data": {
      "application/vnd.jupyter.widget-view+json": {
       "model_id": "6b9f75f8fa5d4bbd942116a0a2f6adb9",
       "version_major": 2,
       "version_minor": 0
      },
      "text/plain": [
       "Canvas(toolbar=Toolbar(toolitems=[('Home', 'Reset original view', 'home', 'home'), ('Back', 'Back to previous …"
      ]
     },
     "metadata": {},
     "output_type": "display_data"
    }
   ],
   "source": [
    "plt.figure()\n",
    "s.get_plot(plt.subplot())"
   ]
  },
  {
   "cell_type": "markdown",
   "id": "immediate-counter",
   "metadata": {},
   "source": [
    "# Initialize the detector"
   ]
  },
  {
   "cell_type": "code",
   "execution_count": 11,
   "id": "drawn-boards",
   "metadata": {},
   "outputs": [
    {
     "name": "stdout",
     "output_type": "stream",
     "text": [
      "(19, 19, 19) 19\n"
     ]
    },
    {
     "data": {
      "application/vnd.jupyter.widget-view+json": {
       "model_id": "3f88d81958c34fc6af1d549293ddf591",
       "version_major": 2,
       "version_minor": 0
      },
      "text/plain": [
       "Canvas(toolbar=Toolbar(toolitems=[('Home', 'Reset original view', 'home', 'home'), ('Back', 'Back to previous …"
      ]
     },
     "metadata": {},
     "output_type": "display_data"
    }
   ],
   "source": [
    "det = fc.Kernel(s,'CsI-784-micrometer')\n",
    "det.add_focal_spot(1.2)\n",
    "\n",
    "plt.figure()\n",
    "det.get_plot(plt.subplot())"
   ]
  },
  {
   "cell_type": "markdown",
   "id": "executive-auditor",
   "metadata": {},
   "source": [
    "# Initialize the phantom"
   ]
  },
  {
   "cell_type": "code",
   "execution_count": 21,
   "id": "celtic-petroleum",
   "metadata": {},
   "outputs": [],
   "source": [
    "phantom = fc.Catphan_404()"
   ]
  },
  {
   "cell_type": "markdown",
   "id": "hundred-maine",
   "metadata": {},
   "source": [
    "# Run the simulation"
   ]
  },
  {
   "cell_type": "code",
   "execution_count": 22,
   "id": "settled-kruger",
   "metadata": {},
   "outputs": [
    {
     "name": "stdout",
     "output_type": "stream",
     "text": [
      "Initializing filter bowtie_asym\n",
      "   Scatter is filtered by bowtie\n",
      "Initializing ASG\n",
      "Running Simulations\n",
      "    Simulating 10 keV\n",
      "    Simulating 20 keV\n",
      "    Simulating 30 keV\n",
      "    Simulating 40 keV\n",
      "    Simulating 50 keV\n",
      "    Simulating 60 keV\n",
      "    Simulating 70 keV\n",
      "    Simulating 80 keV\n",
      "    Simulating 90 keV\n",
      "    Simulating 100 keV\n",
      "Weighting simulations\n"
     ]
    }
   ],
   "source": [
    "angles = np.linspace(0,np.pi*2,180,endpoint=False)\n",
    "phantom.return_projs(det,s,angles,mgy=0.04,ASG=True,bowtie=True,filter='bowtie_asym')"
   ]
  },
  {
   "cell_type": "code",
   "execution_count": 26,
   "id": "suffering-struggle",
   "metadata": {},
   "outputs": [
    {
     "data": {
      "application/vnd.jupyter.widget-view+json": {
       "model_id": "383b08a3404340968c3fe1d1a6e2ecca",
       "version_major": 2,
       "version_minor": 0
      },
      "text/plain": [
       "Canvas(toolbar=Toolbar(toolitems=[('Home', 'Reset original view', 'home', 'home'), ('Back', 'Back to previous …"
      ]
     },
     "metadata": {},
     "output_type": "display_data"
    },
    {
     "data": {
      "text/plain": [
       "<matplotlib.image.AxesImage at 0x7fa46bc81ad0>"
      ]
     },
     "execution_count": 26,
     "metadata": {},
     "output_type": "execute_result"
    }
   ],
   "source": [
    "plt.figure()\n",
    "plt.imshow(phantom.proj[90],cmap='gray')"
   ]
  },
  {
   "cell_type": "markdown",
   "id": "polish-trade",
   "metadata": {},
   "source": [
    "# Reconstruct"
   ]
  },
  {
   "cell_type": "code",
   "execution_count": 27,
   "id": "studied-physiology",
   "metadata": {},
   "outputs": [
    {
     "data": {
      "application/vnd.jupyter.widget-view+json": {
       "model_id": "270f5efb89ca488e9f98b0b4dcc3fd90",
       "version_major": 2,
       "version_minor": 0
      },
      "text/plain": [
       "Canvas(toolbar=Toolbar(toolitems=[('Home', 'Reset original view', 'home', 'home'), ('Back', 'Back to previous …"
      ]
     },
     "metadata": {},
     "output_type": "display_data"
    },
    {
     "data": {
      "text/plain": [
       "<matplotlib.image.AxesImage at 0x7fa46bc91850>"
      ]
     },
     "execution_count": 27,
     "metadata": {},
     "output_type": "execute_result"
    }
   ],
   "source": [
    "phantom.reconstruct('FDK',filt='ram_lak')\n",
    "\n",
    "plt.figure()\n",
    "plt.imshow(phantom.img[5],cmap='gray')"
   ]
  }
 ],
 "metadata": {
  "kernelspec": {
   "display_name": "Python 3",
   "language": "python",
   "name": "python3"
  },
  "language_info": {
   "codemirror_mode": {
    "name": "ipython",
    "version": 3
   },
   "file_extension": ".py",
   "mimetype": "text/x-python",
   "name": "python",
   "nbconvert_exporter": "python",
   "pygments_lexer": "ipython3",
   "version": "3.7.6"
  }
 },
 "nbformat": 4,
 "nbformat_minor": 5
}
