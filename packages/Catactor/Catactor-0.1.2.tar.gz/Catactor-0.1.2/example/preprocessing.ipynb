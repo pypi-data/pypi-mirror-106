{
 "cells": [
  {
   "cell_type": "markdown",
   "metadata": {},
   "source": [
    "## Analyzing multiple scATAC-seq datasets for mouse brain using Catactor\n",
    "* Risa K. Kawaguchi, et al (to be published).\n",
    "* 2020.12.xx\n",
    "\n"
   ]
  },
  {
   "cell_type": "markdown",
   "metadata": {},
   "source": [
    "## 1. Download and preprocess datasets\n",
    "* From GEO (gene expression omnibus)\n",
    " * GSE100033\n",
    " * GSE111586\n",
    " * GSE123576\n",
    " * GSE126074 (SNARE-seq)\n",
    " * GSE127257\n",
    " * GSE130399 (Paired-seq)\n",
    "* From BICCN database\n",
    " * BICCN (SnapATAC objects)\n",
    " * BICCN SMART-seq v2 data"
   ]
  },
  {
   "cell_type": "markdown",
   "metadata": {},
   "source": [
    "## Assumed data structure\n",
    "### Raw matrix data\n",
    "raw_data/\n",
    "* GSE100033\n",
    "* GSE111586\n",
    "* GSE123576\n",
    "* GSE126074\n",
    "* GSE127257\n",
    "* GSE130399\n",
    "* BICCN\n",
    "* BICCN_rna\n",
    "\n",
    "### Processed data\n",
    "mat_data/\n",
    "* GSE100033\n",
    "* GSE111586\n",
    "* GSE123576\n",
    "* GSE126074\n",
    "* GSE127257\n",
    "* GSE1303990 <- Adult dataset \n",
    "* GSE1303991 <- Fetal dataset (unused)\n",
    "* BICCN\n",
    "* BICCN_rna"
   ]
  },
  {
   "cell_type": "markdown",
   "metadata": {},
   "source": [
    "## 2. Preprocess downloaded datasets to produce sparse matrix filesfor Catactor\n",
    "Place original data to a specific directory and apply preprocessing to make matrices in the same format.\n"
   ]
  },
  {
   "cell_type": "code",
   "execution_count": 5,
   "metadata": {},
   "outputs": [
    {
     "name": "stdout",
     "output_type": "stream",
     "text": [
      "GSE100033 processing...\n",
      "python ../script/data_processing/data_preprocess.py GSE100033 ../raw_data/GSE100033 ../mat_data/GSE100033\n",
      "GSE111586 processing...\n",
      "python ../script/data_processing/data_preprocess.py GSE111586 ../raw_data/GSE111586 ../mat_data/GSE111586\n",
      "GSE123576 processing...\n",
      "python ../script/data_processing/data_preprocess.py GSE123576 ../raw_data/GSE123576 ../mat_data/GSE123576\n",
      "GSE126074 processing...\n",
      "python ../script/data_processing/data_preprocess.py GSE126074 ../raw_data/GSE126074 ../mat_data/GSE126074\n",
      "GSE127257 processing...\n",
      "python ../script/data_processing/data_preprocess.py GSE127257 ../raw_data/GSE127257 ../mat_data/GSE127257\n",
      "GSE130399 processing...\n",
      "python ../script/data_processing/data_preprocess.py GSE130399 ../raw_data/GSE130399 ../mat_data/GSE1303990\n",
      "BICCN_rna processing...\n",
      "python ../script/data_processing/data_preprocess.py BICCN_rna ../raw_data/BICCN_rna ../mat_data/BICCN_rna\n"
     ]
    }
   ],
   "source": [
    "# Construct matrix data\n",
    "import os\n",
    "import subprocess\n",
    "script_dir = \"../script/data_processing\"\n",
    "input_dir = \"../raw_data\"\n",
    "output_dir = \"../mat_data\"\n",
    "\n",
    "GSE_list = ['GSE100033', 'GSE111586', 'GSE123576', 'GSE126074', 'GSE127257', 'GSE130399', 'BICCN_rna']\n",
    "GSE_dir = ['GSE100033', 'GSE111586', 'GSE123576', 'GSE126074', 'GSE127257', 'GSE1303990', 'BICCN_rna']\n",
    "for gse, dir in zip(GSE_list, GSE_dir):\n",
    "    print(gse+' processing...')\n",
    "    arg_list = ['python', os.path.join(script_dir, 'data_preprocess.py'), gse, os.path.join(input_dir, gse), os.path.join(output_dir, dir)]\n",
    "    print(' '.join(arg_list))\n",
    "    subprocess.run(arg_list)\n"
   ]
  },
  {
   "cell_type": "code",
   "execution_count": 9,
   "metadata": {},
   "outputs": [
    {
     "name": "stdout",
     "output_type": "stream",
     "text": [
      "['Rscript', '../script/data_processing/snap_atac_to_text.R', '../raw_data/BICCN', '../mat_data/BICCN']\n",
      "['python', '../script/data_processing/biccn_data_reading.py', '../mat_data/BICCN', '../mat_data/BICCN']\n"
     ]
    }
   ],
   "source": [
    "# BICCN scATAC-seq data (SnapATAC object) preprocessing\n",
    "script_dir = \"../script/data_processing\"\n",
    "input_dir = \"../raw_data/BICCN\"\n",
    "output_dir = \"../mat_data/BICCN\"\n",
    "# ulimit -s 100000 #if needed\n",
    "\n",
    "arg_list = ['Rscript', os.path.join(script_dir, 'snap_atac_to_text.R'), input_dir, output_dir]\n",
    "print(' '.join(arg_list))\n",
    "# subprocess.run(arg_list)"
   ]
  },
  {
   "cell_type": "code",
   "execution_count": null,
   "metadata": {},
   "outputs": [],
   "source": [
    "arg_list = ['python', os.path.join(script_dir, 'biccn_data_reading.py'), output_dir, output_dir]\n",
    "print(' '.join(arg_list))\n",
    "subprocess.run(arg_list)"
   ]
  },
  {
   "cell_type": "markdown",
   "metadata": {},
   "source": [
    "## 3. Annotate each genomic bin with the closest genes\n",
    "* Add global genomic bin ids\n",
    "* Add closest gene ids\n"
   ]
  },
  {
   "cell_type": "code",
   "execution_count": 6,
   "metadata": {},
   "outputs": [
    {
     "name": "stdout",
     "output_type": "stream",
     "text": [
      "python ../src/Catactor column_annotation ../mat_data/GSE100033/GSE100033_bin_ng_e11.5.csv\n",
      "python ../src/Catactor column_annotation ../mat_data/GSE100033/GSE100033_bin_ng_e12.5.csv\n",
      "python ../src/Catactor column_annotation ../mat_data/GSE100033/GSE100033_bin_ng_e13.5.csv\n",
      "python ../src/Catactor column_annotation ../mat_data/GSE100033/GSE100033_bin_ng_e14.5.csv\n",
      "python ../src/Catactor column_annotation ../mat_data/GSE100033/GSE100033_bin_ng_e15.5.csv\n",
      "python ../src/Catactor column_annotation ../mat_data/GSE100033/GSE100033_bin_ng_e16.5.csv\n",
      "python ../src/Catactor column_annotation ../mat_data/GSE100033/GSE100033_bin_ng_p0.csv\n",
      "python ../src/Catactor column_annotation ../mat_data/GSE100033/GSE100033_bin_ng_p56.csv\n",
      "python ../src/Catactor column_annotation ../mat_data/GSE111586/GSE111586_bin_ng_Prefrontal.csv\n",
      "python ../src/Catactor column_annotation ../mat_data/GSE111586/GSE111586_bin_ng_Wholebrain1.csv\n",
      "python ../src/Catactor column_annotation ../mat_data/GSE111586/GSE111586_bin_ng_Wholebrain2.csv\n",
      "python ../src/Catactor column_annotation ../mat_data/GSE123576/GSE123576_bin_ng_mousebrain.csv\n",
      "python ../src/Catactor column_annotation ../mat_data/GSE126074/GSE126074_bin_ng_AdCortex.csv\n",
      "python ../src/Catactor column_annotation ../mat_data/GSE126074/GSE126074_bin_ng_AdCortexr.csv\n",
      "python ../src/Catactor column_annotation ../mat_data/GSE127257/GSE127257_bin_ng_Ts11.csv\n",
      "python ../src/Catactor column_annotation ../mat_data/GSE127257/GSE127257_bin_ng_Ts12.csv\n",
      "python ../src/Catactor column_annotation ../mat_data/GSE127257/GSE127257_bin_ng_Ts21.csv\n",
      "python ../src/Catactor column_annotation ../mat_data/GSE127257/GSE127257_bin_ng_Ts22.csv\n",
      "python ../src/Catactor column_annotation ../mat_data/GSE127257/GSE127257_bin_ng_N11.csv\n",
      "python ../src/Catactor column_annotation ../mat_data/GSE127257/GSE127257_bin_ng_N12.csv\n",
      "python ../src/Catactor column_annotation ../mat_data/GSE127257/GSE127257_bin_ng_N21.csv\n",
      "python ../src/Catactor column_annotation ../mat_data/GSE127257/GSE127257_bin_ng_N22.csv\n",
      "python ../src/Catactor column_annotation ../mat_data/GSE1303990/GSE1303990_bin_ng_Actx.csv\n",
      "python ../src/Catactor column_annotation ../mat_data/GSE1303990/GSE1303990_bin_ng_Actxr.csv\n",
      "python ../src/Catactor column_annotation ../mat_data/GSE1303990/GSE1303991_bin_ng_Fb.csv\n",
      "python ../src/Catactor column_annotation ../mat_data/GSE1303990/GSE1303991_bin_ng_Fbr.csv\n",
      "python ../src/Catactor column_annotation ../mat_data/BICCN/bin_3C1_1000.tsv\n",
      "python ../src/Catactor column_annotation ../mat_data/BICCN/bin_3C2_1000.tsv\n",
      "python ../src/Catactor column_annotation ../mat_data/BICCN/bin_4B3_1000.tsv\n",
      "python ../src/Catactor column_annotation ../mat_data/BICCN/bin_4B4_1000.tsv\n",
      "python ../src/Catactor column_annotation ../mat_data/BICCN/bin_4B5_1000.tsv\n",
      "python ../src/Catactor column_annotation ../mat_data/BICCN/bin_2C6_1000.tsv\n",
      "python ../src/Catactor column_annotation ../mat_data/BICCN/bin_2C7_1000.tsv\n",
      "python ../src/Catactor column_annotation ../mat_data/BICCN/bin_5D8_1000.tsv\n",
      "python ../src/Catactor column_annotation ../mat_data/BICCN/bin_5D9_1000.tsv\n",
      "python ../src/Catactor column_annotation ../mat_data/BICCN/global_bin_ng_1_3C1.csv\n",
      "python ../src/Catactor column_annotation ../mat_data/BICCN/global_bin_ng_1_3C2.csv\n",
      "python ../src/Catactor column_annotation ../mat_data/BICCN/global_bin_ng_1_4B3.csv\n",
      "python ../src/Catactor column_annotation ../mat_data/BICCN/global_bin_ng_1_4B4.csv\n",
      "python ../src/Catactor column_annotation ../mat_data/BICCN/global_bin_ng_1_4B5.csv\n",
      "python ../src/Catactor column_annotation ../mat_data/BICCN/global_bin_ng_1_2C6.csv\n",
      "python ../src/Catactor column_annotation ../mat_data/BICCN/global_bin_ng_1_2C7.csv\n",
      "python ../src/Catactor column_annotation ../mat_data/BICCN/global_bin_ng_1_5D8.csv\n",
      "python ../src/Catactor column_annotation ../mat_data/BICCN/global_bin_ng_1_5D9.csv\n"
     ]
    }
   ],
   "source": [
    "# Add a global id for each bin-size\n",
    "import glob\n",
    "import os\n",
    "for dir in ['GSE100033', 'GSE111586', 'GSE123576', 'GSE126074', 'GSE127257', 'GSE1303990', 'BICCN_rna', 'BICCN']:\n",
    "    for fname in glob.glob(os.path.join(\"../mat_data/\", dir, \"*bin*sv\")):\n",
    "        if 'with_bins' in fname:\n",
    "            continue\n",
    "        if 'gene.csv' in fname:\n",
    "            continue\n",
    "        arg_list = ['python', '../src/Catactor', 'column_annotation', fname]\n",
    "        print(' '.join(arg_list))\n",
    "        subprocess.run(arg_list)\n"
   ]
  },
  {
   "cell_type": "code",
   "execution_count": 7,
   "metadata": {},
   "outputs": [
    {
     "name": "stdout",
     "output_type": "stream",
     "text": [
      "Rscript ../script/data_annotation/annotation_metadata.R promoter ../mat_data/GSE100033/GSE100033_bin_ng_e11.5_with_bins.csv\n",
      "Rscript ../script/data_annotation/annotation_metadata.R promoter ../mat_data/GSE100033/GSE100033_bin_ng_e12.5_with_bins.csv\n",
      "Rscript ../script/data_annotation/annotation_metadata.R promoter ../mat_data/GSE100033/GSE100033_bin_ng_e13.5_with_bins.csv\n",
      "Rscript ../script/data_annotation/annotation_metadata.R promoter ../mat_data/GSE100033/GSE100033_bin_ng_e14.5_with_bins.csv\n",
      "Rscript ../script/data_annotation/annotation_metadata.R promoter ../mat_data/GSE100033/GSE100033_bin_ng_e15.5_with_bins.csv\n",
      "Rscript ../script/data_annotation/annotation_metadata.R promoter ../mat_data/GSE100033/GSE100033_bin_ng_e16.5_with_bins.csv\n",
      "Rscript ../script/data_annotation/annotation_metadata.R promoter ../mat_data/GSE100033/GSE100033_bin_ng_p0_with_bins.csv\n",
      "Rscript ../script/data_annotation/annotation_metadata.R promoter ../mat_data/GSE100033/GSE100033_bin_ng_p56_with_bins.csv\n",
      "Rscript ../script/data_annotation/annotation_metadata.R promoter ../mat_data/GSE111586/GSE111586_bin_ng_Prefrontal_with_bins.csv\n",
      "Rscript ../script/data_annotation/annotation_metadata.R promoter ../mat_data/GSE111586/GSE111586_bin_ng_Wholebrain1_with_bins.csv\n",
      "Rscript ../script/data_annotation/annotation_metadata.R promoter ../mat_data/GSE111586/GSE111586_bin_ng_Wholebrain2_with_bins.csv\n",
      "Rscript ../script/data_annotation/annotation_metadata.R promoter ../mat_data/GSE123576/GSE123576_bin_ng_mousebrain_with_bins.csv\n",
      "Rscript ../script/data_annotation/annotation_metadata.R promoter ../mat_data/GSE126074/GSE126074_bin_ng_AdCortex_with_bins.csv\n",
      "Rscript ../script/data_annotation/annotation_metadata.R promoter ../mat_data/GSE126074/GSE126074_bin_ng_AdCortexr_with_bins.csv\n",
      "Rscript ../script/data_annotation/annotation_metadata.R promoter ../mat_data/GSE127257/GSE127257_bin_ng_N11_with_bins.csv\n",
      "Rscript ../script/data_annotation/annotation_metadata.R promoter ../mat_data/GSE127257/GSE127257_bin_ng_N12_with_bins.csv\n",
      "Rscript ../script/data_annotation/annotation_metadata.R promoter ../mat_data/GSE127257/GSE127257_bin_ng_N21_with_bins.csv\n",
      "Rscript ../script/data_annotation/annotation_metadata.R promoter ../mat_data/GSE127257/GSE127257_bin_ng_N22_with_bins.csv\n",
      "Rscript ../script/data_annotation/annotation_metadata.R promoter ../mat_data/GSE127257/GSE127257_bin_ng_Ts11_with_bins.csv\n",
      "Rscript ../script/data_annotation/annotation_metadata.R promoter ../mat_data/GSE127257/GSE127257_bin_ng_Ts12_with_bins.csv\n",
      "Rscript ../script/data_annotation/annotation_metadata.R promoter ../mat_data/GSE127257/GSE127257_bin_ng_Ts21_with_bins.csv\n",
      "Rscript ../script/data_annotation/annotation_metadata.R promoter ../mat_data/GSE127257/GSE127257_bin_ng_Ts22_with_bins.csv\n",
      "Rscript ../script/data_annotation/annotation_metadata.R promoter ../mat_data/GSE1303990/GSE1303990_bin_ng_Actxr_with_bins.csv\n",
      "Rscript ../script/data_annotation/annotation_metadata.R promoter ../mat_data/GSE1303990/GSE1303991_bin_ng_Fbr_with_bins.csv\n",
      "Rscript ../script/data_annotation/annotation_metadata.R promoter ../mat_data/BICCN/global_bin_ng_1_3C2_with_bins.csv\n",
      "Rscript ../script/data_annotation/annotation_metadata.R promoter ../mat_data/BICCN/global_bin_ng_1_4B3_with_bins.csv\n",
      "Rscript ../script/data_annotation/annotation_metadata.R promoter ../mat_data/BICCN/global_bin_ng_1_4B4_with_bins.csv\n"
     ]
    }
   ],
   "source": [
    "# Associate the closest gene ids\n",
    "import glob\n",
    "import os\n",
    "for dir in ['GSE100033', 'GSE111586', 'GSE123576', 'GSE126074', 'GSE127257', 'GSE1303990', 'BICCN_rna', 'BICCN']:\n",
    "    for fname in glob.glob(os.path.join(\"../mat_data/\", dir, \"*bin*sv\")):\n",
    "        if 'with_bins' not in fname:\n",
    "            continue\n",
    "        if 'gene.csv' in fname:\n",
    "            continue\n",
    "        arg_list = ['Rscript', '../script/data_annotation/annotation_metadata.R', 'promoter', fname]\n",
    "        print(' '.join(arg_list))\n",
    "        #subprocess.run(arg_list)\n"
   ]
  }
 ],
 "metadata": {
  "kernelspec": {
   "display_name": "Python 3",
   "language": "python",
   "name": "python3"
  },
  "language_info": {
   "codemirror_mode": {
    "name": "ipython",
    "version": 3
   },
   "file_extension": ".py",
   "mimetype": "text/x-python",
   "name": "python",
   "nbconvert_exporter": "python",
   "pygments_lexer": "ipython3",
   "version": "3.7.10"
  }
 },
 "nbformat": 4,
 "nbformat_minor": 4
}
