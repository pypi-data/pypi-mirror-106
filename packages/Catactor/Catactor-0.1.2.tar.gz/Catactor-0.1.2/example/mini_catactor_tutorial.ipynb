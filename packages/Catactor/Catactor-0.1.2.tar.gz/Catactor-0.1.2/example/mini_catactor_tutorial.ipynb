{
 "cells": [
  {
   "cell_type": "markdown",
   "id": "840f0f50-2086-4c51-b8ef-db1b8389a158",
   "metadata": {},
   "source": [
    "# Example 1: Computation of meta-analytic marker gene enrichment using mini_catactor\n",
    "* Use 5 marker gene sets as default (SF, SC, CU, TA, TN + SM=SF for neuronal subtypes)\n",
    "* Input: scanpy object (row=cell, column=gene name)\n",
    "* Output: scanpy object, pickled file, or csv file"
   ]
  },
  {
   "cell_type": "code",
   "execution_count": null,
   "id": "aca44fc3-8e02-4f99-84be-b146dbc76047",
   "metadata": {},
   "outputs": [],
   "source": [
    "import pickle\n",
    "import scanpy as sc\n",
    "import sys\n",
    "from Catactor import mini_catactor\n",
    "scanpy_object_path = './scanpy_obj.pyn'\n",
    "with open(scanpy_object_path, \"rb\") as f:\n",
    "     adata = pickle.load(f)\n",
    "\n",
    "# tsne_1 and tsne_2 columns are used as a dimension reduction space\n",
    "dimension='tsne_'\n",
    "# Return a scanpy object with new columns for signal enrichment\n",
    "new_adata_with_signal = mini_catactor.run_mini_catactor(adata, plot_gene=True, dimension=dimension)\n",
    "print(new_adata_with_signal.obs)\n",
    "# Write to a pickle object\n",
    "new_adata_with_signal = mini_catactor.run_mini_catactor(adata, output_ext='pyn', dimension=dimension)\n",
    "# Write to a csv file\n",
    "new_adata_with_signal = mini_catactor.run_mini_catactor(adata, output_ext='csv', dimension=dimension)\n",
    "\n",
    "# Plot meta-analytic marker signals \n",
    "new_adata_with_signal = mini_catactor.run_mini_catactor(adata, plot=True, dimension=dimension)\n",
    "\n",
    "# Plot each single marker gene enrichment\n",
    "new_adata_with_signal = mini_catactor.run_mini_catactor(adata, plot_gene=True, dimension=dimension)\n"
   ]
  },
  {
   "cell_type": "code",
   "execution_count": null,
   "id": "7713fb59-f96b-4d6d-ba43-7e213da10681",
   "metadata": {},
   "outputs": [],
   "source": [
    "reference = \"/home/rkawaguc/ipython/BICCN/script/Catactor/analysis/191219_meta/output/scobj/BICCN2_gene_id_order_gene__all_scanpy_obj.pyn\"\n",
    "with open(reference, \"rb\") as f:\n",
    "    ref = pickle.load(f)\n",
    "    "
   ]
  },
  {
   "cell_type": "markdown",
   "id": "01d1f9fd-3eec-49dc-b72c-bc8bc6e84ac3",
   "metadata": {},
   "source": [
    "# Example 2: Computation of pseudo-bulk profiles for each cluster or top cells showing marker signal enrichment\n",
    "* Input: scanpy object (row=cell, column=genomic bin) \n",
    "* Additional input: scanpy object (row=cell, column=gene name)\n",
    "* Output: 4 csv files for pseudo-bulk profiles"
   ]
  },
  {
   "cell_type": "code",
   "execution_count": null,
   "id": "09d995ab-fea1-46a5-aa82-48c62886d37c",
   "metadata": {
    "tags": []
   },
   "outputs": [],
   "source": [
    "from Catactor import pseudo_bulk\n",
    "scanpy_bin_object_path = './scanpy_bin_obj.pyn'\n",
    "with open(scanpy_bin_object_path, \"rb\") as f:\n",
    "     pdata = pickle.load(f)\n",
    "\n",
    "# Pseudo-bulk profiles for each cluster\n",
    "pseudo_bulk.run_average_profiling(pdata, cluster=['cluster'])\n",
    "\n",
    "# Pseudo-bulk profiles for top 500 cells in terms of the marker gene signal computed from reference\n",
    "pseudo_bulk.run_average_profiling(pdata, reference=scanpy_obj_path)\n",
    "\n",
    "# Add equally-divided genomic bin index (global_index_1000, global_index_2000, ...)\n",
    "pseudo_bulk.genome_binning(pdata.var)\n",
    "\n",
    "# Matrix conversion\n",
    "cell_group, cell_original = 'global_index', 'global_index'\n",
    "gene_group, gene_original = 'global_index_5000', 'global_index_1000'\n",
    "new_pdata = pseudo_bulk.convert_row_and_column(pdata, gene_group, gene_original, cell_group, cell_original)\n",
    "print(new_pdata)\n"
   ]
  },
  {
   "cell_type": "code",
   "execution_count": null,
   "id": "01993596-6514-4e62-a71e-366840e18c6e",
   "metadata": {},
   "outputs": [],
   "source": []
  }
 ],
 "metadata": {
  "kernelspec": {
   "display_name": "Python 3",
   "language": "python",
   "name": "python3"
  },
  "language_info": {
   "codemirror_mode": {
    "name": "ipython",
    "version": 3
   },
   "file_extension": ".py",
   "mimetype": "text/x-python",
   "name": "python",
   "nbconvert_exporter": "python",
   "pygments_lexer": "ipython3",
   "version": "3.7.10"
  }
 },
 "nbformat": 4,
 "nbformat_minor": 5
}
