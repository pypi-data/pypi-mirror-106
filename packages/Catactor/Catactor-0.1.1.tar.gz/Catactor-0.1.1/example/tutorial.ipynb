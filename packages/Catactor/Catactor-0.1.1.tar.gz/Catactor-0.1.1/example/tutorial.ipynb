{
 "cells": [
  {
   "cell_type": "markdown",
   "metadata": {},
   "source": [
    "## Analyzing multiple scATAC-seq datasets for mouse brain using Catactor\n",
    "* 2021.05.19\n",
    "* Run the below commands after running all preprocess steps explained in preprocessing.ipynb"
   ]
  },
  {
   "cell_type": "markdown",
   "metadata": {},
   "source": [
    "## Construct Scanpy objects\n",
    "* Apply tSNE and UMAP visualization for selected PCA components based on highly variable genes\n",
    "* Run a test step to find a suitable PC size and parameters\n",
    "  * bash [script_name] test\n",
    "* Set proper DR_options (and OPTIONS)\n",
    "* Run a preprocessing step\n",
    "  * bash [script_name] preprocess\n",
    "* Run a ranking step to \n",
    "  * bash [script_name] rank\n",
    "* Run an average step to make pseudo-bulk profiles\n",
    "  * bash [script_name] average"
   ]
  },
  {
   "cell_type": "markdown",
   "metadata": {},
   "source": [
    "* Other options\n",
    "    * bash [script_name] [procedure] [marker_gene_dir] [sparse_matrix_directory] \n",
    "    * Default: bash [script_name] preprocess ../marker_genes/ ../mat_data/[GSE]"
   ]
  },
  {
   "cell_type": "code",
   "execution_count": 4,
   "metadata": {},
   "outputs": [
    {
     "name": "stdout",
     "output_type": "stream",
     "text": [
      "GSE100033 processing...\n",
      "bash ../shell_scripts/preprocessing/visualization_GSE100033_distal.sh test\n",
      "GSE111586 processing...\n",
      "bash ../shell_scripts/preprocessing/visualization_GSE111586_distal.sh test\n",
      "GSE123576 processing...\n",
      "bash ../shell_scripts/preprocessing/visualization_GSE123576_distal.sh test\n",
      "GSE126074 processing...\n",
      "bash ../shell_scripts/preprocessing/visualization_GSE126074_distal.sh test\n",
      "GSE127257 processing...\n",
      "bash ../shell_scripts/preprocessing/visualization_GSE127257_distal.sh test\n",
      "GSE130399 processing...\n",
      "bash ../shell_scripts/preprocessing/visualization_GSE130399_distal.sh test\n",
      "BICCN_rna processing...\n",
      "bash ../shell_scripts/preprocessing/visualization_BICCN_rna_distal.sh test\n"
     ]
    }
   ],
   "source": [
    "# Construct matrix data\n",
    "import os\n",
    "import subprocess\n",
    "script_dir = \"../shell_scripts/preprocessing\"\n",
    "output_dir = \"../mat_data\"\n",
    "\n",
    "GSE_list = ['GSE100033', 'GSE111586', 'GSE123576', 'GSE126074', 'GSE127257', 'GSE130399', 'BICCN_rna']\n",
    "GSE_dir = ['GSE100033', 'GSE111586', 'GSE123576', 'GSE126074', 'GSE127257', 'GSE1303990', 'BICCN_rna']\n",
    "for gse, dir in zip(GSE_list, GSE_dir):\n",
    "    method = 'test'\n",
    "    print(gse+' processing...')\n",
    "    arg_list = ['bash', os.path.join(script_dir, 'visualization_'+gse+'_distal.sh'), method]\n",
    "    print(' '.join(arg_list))\n",
    "    #subprocess.run(arg_list)\n"
   ]
  }
 ],
 "metadata": {
  "kernelspec": {
   "display_name": "Python 3",
   "language": "python",
   "name": "python3"
  },
  "language_info": {
   "codemirror_mode": {
    "name": "ipython",
    "version": 3
   },
   "file_extension": ".py",
   "mimetype": "text/x-python",
   "name": "python",
   "nbconvert_exporter": "python",
   "pygments_lexer": "ipython3",
   "version": "3.7.10"
  }
 },
 "nbformat": 4,
 "nbformat_minor": 4
}
