{
  "nbformat": 4,
  "nbformat_minor": 0,
  "metadata": {
    "colab": {
      "name": "text2text demo.ipynb",
      "provenance": [],
      "collapsed_sections": [],
      "machine_shape": "hm"
    },
    "kernelspec": {
      "name": "python3",
      "display_name": "Python 3"
    },
    "accelerator": "GPU"
  },
  "cells": [
    {
      "cell_type": "code",
      "metadata": {
        "id": "R5p-YiGOJRLV",
        "colab": {
          "base_uri": "https://localhost:8080/"
        },
        "outputId": "dae62cfd-b919-4d1d-fe71-cfa41f9cea49"
      },
      "source": [
        "pip install text2text"
      ],
      "execution_count": null,
      "outputs": [
        {
          "output_type": "stream",
          "text": [
            "Collecting text2text\n",
            "\u001b[?25l  Downloading https://files.pythonhosted.org/packages/79/6e/d34253245a021e240795e6c69b674df6a30ba8de2218f1a19f1de21c5346/text2text-0.1.2-py3-none-any.whl (55kB)\n",
            "\u001b[K     |████████████████████████████████| 61kB 3.3MB/s \n",
            "\u001b[?25hCollecting transformers\n",
            "\u001b[?25l  Downloading https://files.pythonhosted.org/packages/d8/b2/57495b5309f09fa501866e225c84532d1fd89536ea62406b2181933fb418/transformers-4.5.1-py3-none-any.whl (2.1MB)\n",
            "\u001b[K     |████████████████████████████████| 2.1MB 7.1MB/s \n",
            "\u001b[?25hRequirement already satisfied: tqdm in /usr/local/lib/python3.7/dist-packages (from text2text) (4.41.1)\n",
            "Requirement already satisfied: numpy in /usr/local/lib/python3.7/dist-packages (from text2text) (1.19.5)\n",
            "Collecting sentencepiece\n",
            "\u001b[?25l  Downloading https://files.pythonhosted.org/packages/f5/99/e0808cb947ba10f575839c43e8fafc9cc44e4a7a2c8f79c60db48220a577/sentencepiece-0.1.95-cp37-cp37m-manylinux2014_x86_64.whl (1.2MB)\n",
            "\u001b[K     |████████████████████████████████| 1.2MB 20.6MB/s \n",
            "\u001b[?25hRequirement already satisfied: torch in /usr/local/lib/python3.7/dist-packages (from text2text) (1.8.1+cu101)\n",
            "Requirement already satisfied: regex!=2019.12.17 in /usr/local/lib/python3.7/dist-packages (from transformers->text2text) (2019.12.20)\n",
            "Requirement already satisfied: packaging in /usr/local/lib/python3.7/dist-packages (from transformers->text2text) (20.9)\n",
            "Collecting sacremoses\n",
            "\u001b[?25l  Downloading https://files.pythonhosted.org/packages/75/ee/67241dc87f266093c533a2d4d3d69438e57d7a90abb216fa076e7d475d4a/sacremoses-0.0.45-py3-none-any.whl (895kB)\n",
            "\u001b[K     |████████████████████████████████| 901kB 25.7MB/s \n",
            "\u001b[?25hRequirement already satisfied: requests in /usr/local/lib/python3.7/dist-packages (from transformers->text2text) (2.23.0)\n",
            "Collecting tokenizers<0.11,>=0.10.1\n",
            "\u001b[?25l  Downloading https://files.pythonhosted.org/packages/ae/04/5b870f26a858552025a62f1649c20d29d2672c02ff3c3fb4c688ca46467a/tokenizers-0.10.2-cp37-cp37m-manylinux2010_x86_64.whl (3.3MB)\n",
            "\u001b[K     |████████████████████████████████| 3.3MB 40.6MB/s \n",
            "\u001b[?25hRequirement already satisfied: importlib-metadata; python_version < \"3.8\" in /usr/local/lib/python3.7/dist-packages (from transformers->text2text) (3.10.1)\n",
            "Requirement already satisfied: filelock in /usr/local/lib/python3.7/dist-packages (from transformers->text2text) (3.0.12)\n",
            "Requirement already satisfied: typing-extensions in /usr/local/lib/python3.7/dist-packages (from torch->text2text) (3.7.4.3)\n",
            "Requirement already satisfied: pyparsing>=2.0.2 in /usr/local/lib/python3.7/dist-packages (from packaging->transformers->text2text) (2.4.7)\n",
            "Requirement already satisfied: six in /usr/local/lib/python3.7/dist-packages (from sacremoses->transformers->text2text) (1.15.0)\n",
            "Requirement already satisfied: click in /usr/local/lib/python3.7/dist-packages (from sacremoses->transformers->text2text) (7.1.2)\n",
            "Requirement already satisfied: joblib in /usr/local/lib/python3.7/dist-packages (from sacremoses->transformers->text2text) (1.0.1)\n",
            "Requirement already satisfied: chardet<4,>=3.0.2 in /usr/local/lib/python3.7/dist-packages (from requests->transformers->text2text) (3.0.4)\n",
            "Requirement already satisfied: urllib3!=1.25.0,!=1.25.1,<1.26,>=1.21.1 in /usr/local/lib/python3.7/dist-packages (from requests->transformers->text2text) (1.24.3)\n",
            "Requirement already satisfied: idna<3,>=2.5 in /usr/local/lib/python3.7/dist-packages (from requests->transformers->text2text) (2.10)\n",
            "Requirement already satisfied: certifi>=2017.4.17 in /usr/local/lib/python3.7/dist-packages (from requests->transformers->text2text) (2020.12.5)\n",
            "Requirement already satisfied: zipp>=0.5 in /usr/local/lib/python3.7/dist-packages (from importlib-metadata; python_version < \"3.8\"->transformers->text2text) (3.4.1)\n",
            "Installing collected packages: sacremoses, tokenizers, transformers, sentencepiece, text2text\n",
            "Successfully installed sacremoses-0.0.45 sentencepiece-0.1.95 text2text-0.1.2 tokenizers-0.10.2 transformers-4.5.1\n"
          ],
          "name": "stdout"
        }
      ]
    },
    {
      "cell_type": "code",
      "metadata": {
        "id": "H-PGKUg2nfrL"
      },
      "source": [
        "%%bash\n",
        "export CUDA_HOME=/usr/local/cuda-10.1\n",
        "pip install -v --no-cache-dir --global-option=\"--cpp_ext\" --global-option=\"--cuda_ext\" pytorch-extension"
      ],
      "execution_count": null,
      "outputs": []
    },
    {
      "cell_type": "code",
      "metadata": {
        "id": "jiUl1ls51cuW"
      },
      "source": [
        "### Text Handler API quick start\n",
        "from text2text import Handler\n",
        "h = Handler([\"hello, world!\"], src_lang=\"en\")\n",
        "h.translate(tgt_lang=\"zh\") #['你好,世界!']\n",
        "h.summarize() #[\"World ' s largest world\"]\n",
        "h.question() #[('What is the name of the world you are in?', 'The world')]\n",
        "h.variate() #['Hello the world!', 'Welcome to the world.', 'Hello to the world!',..."
      ],
      "execution_count": null,
      "outputs": []
    },
    {
      "cell_type": "code",
      "metadata": {
        "id": "F0RWWWrM83ov",
        "colab": {
          "base_uri": "https://localhost:8080/"
        },
        "outputId": "a8e1c4e4-4f36-44fc-92dd-87bbf5783b77"
      },
      "source": [
        "### Languages Available\n",
        "from text2text import Transformer\n",
        "Transformer.LANGUAGES"
      ],
      "execution_count": null,
      "outputs": [
        {
          "output_type": "stream",
          "text": [
            "Better speed can be achieved with apex installed from https://www.github.com/artitw/apex.\n"
          ],
          "name": "stdout"
        },
        {
          "output_type": "execute_result",
          "data": {
            "text/plain": [
              "{'af': 'Afrikaans',\n",
              " 'am': 'Amharic',\n",
              " 'ar': 'Arabic',\n",
              " 'ast': 'Asturian',\n",
              " 'az': 'Azerbaijani',\n",
              " 'ba': 'Bashkir',\n",
              " 'be': 'Belarusian',\n",
              " 'bg': 'Bulgarian',\n",
              " 'bn': 'Bengali',\n",
              " 'br': 'Breton',\n",
              " 'bs': 'Bosnian',\n",
              " 'ca': 'Catalan_Valencian',\n",
              " 'ceb': 'Cebuano',\n",
              " 'cs': 'Czech',\n",
              " 'cy': 'Welsh',\n",
              " 'da': 'Danish',\n",
              " 'de': 'German',\n",
              " 'el': 'Greeek',\n",
              " 'en': 'English',\n",
              " 'es': 'Spanish',\n",
              " 'et': 'Estonian',\n",
              " 'fa': 'Persian',\n",
              " 'ff': 'Fulah',\n",
              " 'fi': 'Finnish',\n",
              " 'fr': 'French',\n",
              " 'fy': 'Western_Frisian',\n",
              " 'ga': 'Irish',\n",
              " 'gd': 'Gaelic_Scottish_Gaelic',\n",
              " 'gl': 'Galician',\n",
              " 'gu': 'Gujarati',\n",
              " 'ha': 'Hausa',\n",
              " 'he': 'Hebrew',\n",
              " 'hi': 'Hindi',\n",
              " 'hr': 'Croatian',\n",
              " 'ht': 'Haitian_Haitian_Creole',\n",
              " 'hu': 'Hungarian',\n",
              " 'hy': 'Armenian',\n",
              " 'id': 'Indonesian',\n",
              " 'ig': 'Igbo',\n",
              " 'ilo': 'Iloko',\n",
              " 'is': 'Icelandic',\n",
              " 'it': 'Italian',\n",
              " 'ja': 'Japanese',\n",
              " 'jv': 'Javanese',\n",
              " 'ka': 'Georgian',\n",
              " 'kk': 'Kazakh',\n",
              " 'km': 'Central_Khmer',\n",
              " 'kn': 'Kannada',\n",
              " 'ko': 'Korean',\n",
              " 'lb': 'Luxembourgish_Letzeburgesch',\n",
              " 'lg': 'Ganda',\n",
              " 'ln': 'Lingala',\n",
              " 'lo': 'Lao',\n",
              " 'lt': 'Lithuanian',\n",
              " 'lv': 'Latvian',\n",
              " 'mg': 'Malagasy',\n",
              " 'mk': 'Macedonian',\n",
              " 'ml': 'Malayalam',\n",
              " 'mn': 'Mongolian',\n",
              " 'mr': 'Marathi',\n",
              " 'ms': 'Malay',\n",
              " 'my': 'Burmese',\n",
              " 'ne': 'Nepali',\n",
              " 'nl': 'Dutch_Flemish',\n",
              " 'no': 'Norwegian',\n",
              " 'ns': 'Northern_Sotho',\n",
              " 'oc': 'Occitan',\n",
              " 'or': 'Oriya',\n",
              " 'pa': 'Panjabi_Punjabi',\n",
              " 'pl': 'Polish',\n",
              " 'ps': 'Pushto_Pashto',\n",
              " 'pt': 'Portuguese',\n",
              " 'ro': 'Romanian_Moldavian_Moldovan',\n",
              " 'ru': 'Russian',\n",
              " 'sd': 'Sindhi',\n",
              " 'si': 'Sinhala_Sinhalese',\n",
              " 'sk': 'Slovak',\n",
              " 'sl': 'Slovenian',\n",
              " 'so': 'Somali',\n",
              " 'sq': 'Albanian',\n",
              " 'sr': 'Serbian',\n",
              " 'ss': 'Swati',\n",
              " 'su': 'Sundanese',\n",
              " 'sv': 'Swedish',\n",
              " 'sw': 'Swahili',\n",
              " 'ta': 'Tamil',\n",
              " 'th': 'Thai',\n",
              " 'tl': 'Tagalog',\n",
              " 'tn': 'Tswana',\n",
              " 'tr': 'Turkish',\n",
              " 'uk': 'Ukrainian',\n",
              " 'ur': 'Urdu',\n",
              " 'uz': 'Uzbek',\n",
              " 'vi': 'Vietnamese',\n",
              " 'wo': 'Wolof',\n",
              " 'xh': 'Xhosa',\n",
              " 'yi': 'Yiddish',\n",
              " 'yo': 'Yoruba',\n",
              " 'zh': 'Chinese',\n",
              " 'zu': 'Zulu'}"
            ]
          },
          "metadata": {
            "tags": []
          },
          "execution_count": 3
        }
      ]
    },
    {
      "cell_type": "code",
      "metadata": {
        "id": "bG6oRnav9G__"
      },
      "source": [
        "# Sample texts\n",
        "article_en = 'The Secretary-General of the United Nations says there is no military solution in Syria.'\n",
        " \n",
        "notre_dame_str = \"As at most other universities, Notre Dame's students run a number of news media outlets. The nine student - run outlets include three newspapers, both a radio and television station, and several magazines and journals. Begun as a one - page journal in September 1876, the Scholastic magazine is issued twice monthly and claims to be the oldest continuous collegiate publication in the United States. The other magazine, The Juggler, is released twice a year and focuses on student literature and artwork. The Dome yearbook is published annually. The newspapers have varying publication interests, with The Observer published daily and mainly reporting university and other news, and staffed by students from both Notre Dame and Saint Mary's College. Unlike Scholastic and The Dome, The Observer is an independent publication and does not have a faculty advisor or any editorial oversight from the University. In 1987, when some students believed that The Observer began to show a conservative bias, a liberal newspaper, Common Sense was published. Likewise, in 2003, when other students believed that the paper showed a liberal bias, the conservative paper Irish Rover went into production. Neither paper is published as often as The Observer; however, all three are distributed to all students. Finally, in Spring 2008 an undergraduate journal for political science research, Beyond Politics, made its debut.\"\n",
        " \n",
        "bacteria_str = \"Bacteria are a type of biological cell. They constitute a large domain of prokaryotic microorganisms. Typically a few micrometres in length, bacteria have a number of shapes, ranging from spheres to rods and spirals. Bacteria were among the first life forms to appear on Earth, and are present in most of its habitats.\"\n",
        " \n",
        "bio_str = \"Biology is the science that studies life. What exactly is life? This may sound like a silly question with an obvious answer, but it is not easy to define life. For example, a branch of biology called virology studies viruses, which exhibit some of the characteristics of living entities but lack others. It turns out that although viruses can attack living organisms, cause diseases, and even reproduce, they do not meet the criteria that biologists use to define life.\"\n",
        " "
      ],
      "execution_count": null,
      "outputs": []
    },
    {
      "cell_type": "code",
      "metadata": {
        "id": "Vk-F8sYK9EfJ"
      },
      "source": [
        "### Translation\n",
        "# Default translator model\n",
        "Handler([article_en, notre_dame_str, bacteria_str, bio_str], src_lang='en').translate(tgt_lang='zh')"
      ],
      "execution_count": null,
      "outputs": []
    },
    {
      "cell_type": "code",
      "metadata": {
        "id": "5OfyLZZg4wrT"
      },
      "source": [
        "# Smaller model to save time and memory for development\n",
        "Handler([\"I would like to go hiking tomorrow.\"], src_lang=\"en\", pretrained_translator=\"facebook/m2m100_418M\").translate(tgt_lang='zh')"
      ],
      "execution_count": null,
      "outputs": []
    },
    {
      "cell_type": "code",
      "metadata": {
        "id": "6mxiqy764xa1"
      },
      "source": [
        "# Smaller model to save time and memory for development\n",
        "# Note language code difference\n",
        "Handler([\"I would like to go hiking tomorrow.\"], src_lang=\"en_XX\", pretrained_translator=\"facebook/mbart-large-50-many-to-many-mmt\").translate(tgt_lang='zh_CN')"
      ],
      "execution_count": null,
      "outputs": []
    },
    {
      "cell_type": "code",
      "metadata": {
        "id": "dF_NSzaKPjs2"
      },
      "source": [
        "### Question Generation\n",
        "Handler([\"很喜欢陈慧琳唱歌。\"], src_lang='zh').question()\n",
        "Handler([\n",
        "            bio_str,\n",
        "            bio_str,\n",
        "            bio_str,\n",
        "            bio_str,\n",
        "            bio_str,\n",
        "            \"I will go to school today to take my math exam.\",\n",
        "            \"I will go to school today to take my math exam.\",\n",
        "            \"Tomorrow is my cousin's birthday. He will turn 24 years old.\",\n",
        "            notre_dame_str,\n",
        "            bacteria_str,\n",
        "            bacteria_str,\n",
        "            bacteria_str,\n",
        "            \"I will go to school today to take my math exam. [SEP] school\",\n",
        "            \"I will go to school today to take my math exam. [SEP] exam\",\n",
        "            \"I will go to school today to take my math exam. [SEP] math\",\n",
        "          ], src_lang='en').question()"
      ],
      "execution_count": null,
      "outputs": []
    },
    {
      "cell_type": "code",
      "metadata": {
        "id": "JRBEPBFBvBqe"
      },
      "source": [
        "### Summarization\n",
        "Handler([notre_dame_str, bacteria_str, bio_str], src_lang='en').summarize()"
      ],
      "execution_count": null,
      "outputs": []
    },
    {
      "cell_type": "code",
      "metadata": {
        "id": "--62SmM89Ymd"
      },
      "source": [
        "### Variation\n",
        "# Useful for augmenting training data\n",
        "Handler([bacteria_str], src_lang='en').variate()"
      ],
      "execution_count": null,
      "outputs": []
    }
  ]
}