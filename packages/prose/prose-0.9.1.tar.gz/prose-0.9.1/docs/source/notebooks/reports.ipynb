{
 "cells": [
  {
   "cell_type": "markdown",
   "id": "assured-marina",
   "metadata": {},
   "source": [
    "# Reports"
   ]
  },
  {
   "cell_type": "markdown",
   "id": "rising-honolulu",
   "metadata": {},
   "source": [
    "To communicate results, one might need to produce pdf reports out of observations. *prose* features auto-generated  $\\LaTeX$ reports from `Observation` objects."
   ]
  },
  {
   "cell_type": "markdown",
   "id": "global-explosion",
   "metadata": {},
   "source": [
    "## Loading the phot"
   ]
  },
  {
   "cell_type": "markdown",
   "id": "owned-notebook",
   "metadata": {},
   "source": [
    "Let's firts load some data you might have used or generated in previous tutorials (in my case I take the `.phot` we produced [here](./reduction.ipynb))"
   ]
  },
  {
   "cell_type": "code",
   "execution_count": 10,
   "id": "absent-transcription",
   "metadata": {},
   "outputs": [
    {
     "data": {
      "image/png": "[encoded data removed]",
      "text/plain": [
       "<Figure size 432x288 with 1 Axes>"
      ]
     },
     "metadata": {
      "needs_background": "light"
     },
     "output_type": "display_data"
    }
   ],
   "source": [
    "from prose import load\n",
    "import matplotlib.pyplot as plt\n",
    "\n",
    "obs = load(\"A_20210318_prose_a/A_20210318_prose_a.phot\")\n",
    "obs.plot()\n",
    "_ = plt.ylim(0.98, 1.02)"
   ]
  },
  {
   "cell_type": "markdown",
   "id": "classified-speaker",
   "metadata": {},
   "source": [
    "## Basic Summary report"
   ]
  },
  {
   "cell_type": "markdown",
   "id": "meaning-winner",
   "metadata": {},
   "source": [
    "You can produce many reports in prose and arange them into the `Report` object so that they are all contained in a single  $\\LaTeX$/PDF. We will make a report out of the very basic `Summary` template, which namely shows a summary of the observation:"
   ]
  },
  {
   "cell_type": "code",
   "execution_count": 11,
   "id": "fancy-obligation",
   "metadata": {},
   "outputs": [
    {
     "name": "stdout",
     "output_type": "stream",
     "text": [
      "making summary ...\n"
     ]
    },
    {
     "name": "stderr",
     "output_type": "stream",
     "text": [
      "/Users/lionelgarcia/Code/prose/prose/observation.py:635: RuntimeWarning: invalid value encountered in true_divide\n",
      "  scaled_data = scaled_data / np.std(scaled_data)\n",
      "/Users/lionelgarcia/Code/envs/prose/lib/python3.7/site-packages/numpy/core/_asarray.py:83: UserWarning: Warning: converting a masked element to nan.\n",
      "  return array(a, dtype, copy=False, order=order)\n",
      "No handles with labels found to put in legend.\n"
     ]
    },
    {
     "data": {
      "text/plain": [
       "<Figure size 432x288 with 0 Axes>"
      ]
     },
     "metadata": {},
     "output_type": "display_data"
    }
   ],
   "source": [
    "from prose.reports import Report, Summary\n",
    "\n",
    "# The summary template\n",
    "summary = Summary(obs)\n",
    "\n",
    "# The report\n",
    "report = Report([summary])\n",
    "report.make(f\"{obs.denominator}_report\")"
   ]
  },
  {
   "cell_type": "markdown",
   "id": "artistic-briefing",
   "metadata": {},
   "source": [
    "<div class=\"alert alert-info\">\n",
    "\n",
    "Note\n",
    "\n",
    "`obs.denominator` is just a conveniant attribute returning a string like `\"telescope_target_date_filter\"`\n",
    "\n",
    "</div>"
   ]
  },
  {
   "cell_type": "markdown",
   "id": "ordinary-israel",
   "metadata": {},
   "source": [
    "The last command generated a folder containing everything needed for the included `report.tex` to be compiled on your side. This is a $\\LaTeX$ file so feel free to add notes and extend it for your needs."
   ]
  },
  {
   "cell_type": "markdown",
   "id": "fiscal-cooling",
   "metadata": {},
   "source": [
    "<div class=\"alert alert-info\">\n",
    "\n",
    "Note\n",
    "\n",
    "Alternatively, if you have `pdflatex` isntalled you can run `report.compile()`\n",
    "\n",
    "</div>"
   ]
  },
  {
   "cell_type": "markdown",
   "id": "recorded-destination",
   "metadata": {},
   "source": [
    "![](A_20210318_prose_a_report.png)"
   ]
  }
 ],
 "metadata": {
  "kernelspec": {
   "display_name": "Python 3",
   "language": "python",
   "name": "python3"
  },
  "language_info": {
   "codemirror_mode": {
    "name": "ipython",
    "version": 3
   },
   "file_extension": ".py",
   "mimetype": "text/x-python",
   "name": "python",
   "nbconvert_exporter": "python",
   "pygments_lexer": "ipython3",
   "version": "3.7.5"
  }
 },
 "nbformat": 4,
 "nbformat_minor": 5
}
