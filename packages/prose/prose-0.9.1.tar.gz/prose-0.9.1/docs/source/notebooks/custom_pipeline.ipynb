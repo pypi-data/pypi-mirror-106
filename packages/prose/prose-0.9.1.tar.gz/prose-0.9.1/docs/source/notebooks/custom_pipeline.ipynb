{
 "cells": [
  {
   "cell_type": "markdown",
   "metadata": {},
   "source": [
    "# Custom pipeline\n",
    "\n",
    "## Objective\n",
    "\n",
    "In this tutorial we will create a custom`Block` and include it in a pipeline (`Sequence`) which goal is to detect and trace a moving object in the following observation:\n",
    "\n",
    "![](moving_dataset_movie.gif)\n",
    "\n",
    "Dataset\n",
    "-------\n",
    "For this tutorial we will work on a synthetic observation which gif can be seen above. To generate this dataset:"
   ]
  },
  {
   "cell_type": "code",
   "execution_count": 1,
   "metadata": {},
   "outputs": [
    {
     "name": "stderr",
     "output_type": "stream",
     "text": [
      "WARNING: leap-second auto-update failed due to the following exception: RuntimeError('Cache is locked after 5.02 s. This may indicate an astropy bug or that kill -9 was used. If you want to unlock the cache remove the directory /Users/lionelgarcia/.astropy/cache/download/py3/lock.') [astropy.time.core]\n"
     ]
    },
    {
     "data": {
      "text/plain": [
       "'/Users/lionelgarcia/Code/prose/docs/source/notebooks/moving_object_dataset'"
      ]
     },
     "execution_count": 1,
     "metadata": {},
     "output_type": "execute_result"
    }
   ],
   "source": [
    "from prose.datasets import generate_prose_reduction_dataset\n",
    "\n",
    "dataset = \"moving_object_dataset\"\n",
    "generate_prose_reduction_dataset(dataset, moving=[5, [0,40], [75, 60]], n_images=15)"
   ]
  },
  {
   "cell_type": "markdown",
   "metadata": {},
   "source": [
    "We directly instantiate a `FitsManager` object to explore this folder"
   ]
  },
  {
   "cell_type": "code",
   "execution_count": 2,
   "metadata": {},
   "outputs": [
    {
     "name": "stderr",
     "output_type": "stream",
     "text": [
      "100%|██████████| 20/20 [00:00<00:00, 725.04it/s]\n"
     ]
    }
   ],
   "source": [
    "from prose import FitsManager\n",
    "#\n",
    "fm = FitsManager(dataset)"
   ]
  },
  {
   "cell_type": "code",
   "execution_count": 3,
   "metadata": {
    "nbsphinx": "hidden"
   },
   "outputs": [
    {
     "name": "stderr",
     "output_type": "stream",
     "text": [
      "\u001b[94mRUN\u001b[39m default: 100%|\u001b[94m█████████████████████████\u001b[39m| 15/15 [00:00<00:00, 104.38images/s]\u001b[0m\n"
     ]
    }
   ],
   "source": [
    "# hidden\n",
    "\n",
    "from prose import Sequence\n",
    "from prose.blocks import Video\n",
    "\n",
    "u = Sequence([\n",
    "    Video(\"moving_dataset_movie.gif\", factor=2, from_fits=True),\n",
    "], fm.images)\n",
    "\n",
    "_ = u.run()"
   ]
  },
  {
   "cell_type": "markdown",
   "metadata": {},
   "source": [
    "## Principle\n",
    "\n",
    "We will use difference imaging to locate the moving object. This is shown in the next code where we can see that difference between consecutive images allow to locate a moving source."
   ]
  },
  {
   "cell_type": "code",
   "execution_count": 4,
   "metadata": {},
   "outputs": [
    {
     "data": {
      "image/png": "[encoded data removed]",
      "text/plain": [
       "<Figure size 432x288 with 1 Axes>"
      ]
     },
     "metadata": {
      "needs_background": "light"
     },
     "output_type": "display_data"
    }
   ],
   "source": [
    "import numpy as np\n",
    "from astropy.io import fits\n",
    "import matplotlib.pyplot as plt\n",
    "\n",
    "# loading first and second images\n",
    "files = fm.images\n",
    "im0 = fits.getdata(files[5])\n",
    "im1 = fits.getdata(files[6])\n",
    "\n",
    "# difference image\n",
    "im_diff = im1 - im0\n",
    "\n",
    "# max difference position\n",
    "position = np.array(np.unravel_index(np.argmax(im_diff), im_diff.shape))[::-1]\n",
    "\n",
    "plt.imshow(im_diff)\n",
    "_ = plt.plot(*position, \"x\", c=\"k\")"
   ]
  },
  {
   "cell_type": "markdown",
   "metadata": {},
   "source": [
    "## Creating a new :`Block`\n",
    "\n",
    "Now we can create a `Block` that will extract and store this information"
   ]
  },
  {
   "cell_type": "code",
   "execution_count": 5,
   "metadata": {},
   "outputs": [],
   "source": [
    "from prose import Block\n",
    "from prose.utils import z_scale\n",
    "\n",
    "class MovingTarget(Block):\n",
    "    \n",
    "    # nothing to initialize\n",
    "    \n",
    "    def __init__(self, **kwargs):\n",
    "        super().__init__(**kwargs)\n",
    "        \n",
    "        # stores last image and positions\n",
    "        self.last_image = None \n",
    "        self.positions = []\n",
    "        \n",
    "    def run(self, image):\n",
    "        \n",
    "        # difference imaging we did above\n",
    "        if self.last_image is None:\n",
    "            self.positions.append(None)\n",
    "        else:\n",
    "            im_diff = image.data - self.last_image\n",
    "            position = np.unravel_index(np.argmax(im_diff), im_diff.shape)[::-1]\n",
    "            self.positions.append(position)\n",
    "         \n",
    "        self.last_image = image.data\n",
    "\n",
    "    def terminate(self):\n",
    "        \n",
    "        # We finish by plotting positions over the last image\n",
    "        plt.imshow(z_scale(self.last_image), cmap=\"Greys_r\")\n",
    "        coords_path = np.array(self.positions[1::])\n",
    "        plt.plot(*coords_path.T, \"-o\", ms=4)"
   ]
  },
  {
   "cell_type": "markdown",
   "metadata": {},
   "source": [
    "We can now place our new block in a `Unit` and run it:"
   ]
  },
  {
   "cell_type": "code",
   "execution_count": 6,
   "metadata": {},
   "outputs": [
    {
     "name": "stderr",
     "output_type": "stream",
     "text": [
      "\u001b[94mRUN\u001b[39m default: 100%|\u001b[94m█████████████████████████\u001b[39m| 15/15 [00:00<00:00, 312.65images/s]\u001b[0m\n"
     ]
    },
    {
     "data": {
      "image/png": "[encoded data removed]",
      "text/plain": [
       "<Figure size 432x288 with 1 Axes>"
      ]
     },
     "metadata": {
      "needs_background": "light"
     },
     "output_type": "display_data"
    }
   ],
   "source": [
    "from prose import Sequence\n",
    "\n",
    "pipeline = Sequence([\n",
    "    MovingTarget()\n",
    "], fm.images)\n",
    "\n",
    "_ = pipeline.run()"
   ]
  },
  {
   "cell_type": "code",
   "execution_count": 7,
   "metadata": {
    "nbsphinx": "hidden"
   },
   "outputs": [],
   "source": [
    "# hidden\n",
    "from shutil import rmtree\n",
    "\n",
    "rmtree(dataset)"
   ]
  }
 ],
 "metadata": {
  "kernelspec": {
   "display_name": "Python 3",
   "language": "python",
   "name": "python3"
  },
  "language_info": {
   "codemirror_mode": {
    "name": "ipython",
    "version": 3
   },
   "file_extension": ".py",
   "mimetype": "text/x-python",
   "name": "python",
   "nbconvert_exporter": "python",
   "pygments_lexer": "ipython3",
   "version": "3.7.5"
  }
 },
 "nbformat": 4,
 "nbformat_minor": 4
}
