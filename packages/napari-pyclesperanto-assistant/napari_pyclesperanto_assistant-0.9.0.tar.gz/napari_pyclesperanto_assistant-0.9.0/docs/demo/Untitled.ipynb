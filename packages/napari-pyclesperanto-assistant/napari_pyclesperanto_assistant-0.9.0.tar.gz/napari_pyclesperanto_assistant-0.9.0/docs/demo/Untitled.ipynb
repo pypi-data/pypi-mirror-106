{
 "cells": [
  {
   "cell_type": "code",
   "execution_count": 13,
   "id": "cubic-wisdom",
   "metadata": {},
   "outputs": [
    {
     "name": "stdout",
     "output_type": "stream",
     "text": [
      "(76, 689, 636, 4)\n"
     ]
    }
   ],
   "source": [
    "\n"
   ]
  },
  {
   "cell_type": "code",
   "execution_count": 14,
   "id": "selective-geometry",
   "metadata": {},
   "outputs": [
    {
     "name": "stdout",
     "output_type": "stream",
     "text": [
      "4\n"
     ]
    }
   ],
   "source": []
  },
  {
   "cell_type": "code",
   "execution_count": 15,
   "id": "muslim-invention",
   "metadata": {},
   "outputs": [],
   "source": []
  },
  {
   "cell_type": "code",
   "execution_count": null,
   "id": "functional-match",
   "metadata": {},
   "outputs": [
    {
     "name": "stdout",
     "output_type": "stream",
     "text": [
      "(76, 689, 636, 4)\n",
      "4\n"
     ]
    }
   ],
   "source": [
    "# load data\n",
    "from skimage.io import imread\n",
    "\n",
    "image = imread(\"C:/Users/rober/OneDrive/Projects/202101_Image_Analysis_Learning_Groups/data_3D/Tzer/Day2_org18.tif\")\n",
    "voxel_size = [0.5, 0.0601251, 0.0601251]\n",
    "\n",
    "colors = ['magenta', 'green', 'cyan', 'gray']\n",
    "\n",
    "print(image.shape)\n",
    "num_channels = image.shape[3]\n",
    "print(num_channels)\n",
    "\n",
    "import napari\n",
    "\n",
    "# create Qt GUI context\n",
    "with napari.gui_qt():\n",
    "    # start napari\n",
    "    viewer = napari.Viewer()\n",
    "\n",
    "    for c in range(0, num_channels):    \n",
    "        channel = image[:,:,:,c]\n",
    "        viewer.add_image(channel, colormap=colors[c], scale=voxel_size, blending='additive')"
   ]
  },
  {
   "cell_type": "code",
   "execution_count": null,
   "id": "olive-heater",
   "metadata": {},
   "outputs": [],
   "source": []
  }
 ],
 "metadata": {
  "kernelspec": {
   "display_name": "Python 3",
   "language": "python",
   "name": "python3"
  },
  "language_info": {
   "codemirror_mode": {
    "name": "ipython",
    "version": 3
   },
   "file_extension": ".py",
   "mimetype": "text/x-python",
   "name": "python",
   "nbconvert_exporter": "python",
   "pygments_lexer": "ipython3",
   "version": "3.8.5"
  }
 },
 "nbformat": 4,
 "nbformat_minor": 5
}
